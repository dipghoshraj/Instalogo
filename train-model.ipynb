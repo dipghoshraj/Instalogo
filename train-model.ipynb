{
 "cells": [
  {
   "cell_type": "code",
   "execution_count": 8,
   "metadata": {},
   "outputs": [],
   "source": [
    "from torch.utils.data import Dataset\n",
    "from PIL import Image\n",
    "import os"
   ]
  },
  {
   "cell_type": "code",
   "execution_count": 9,
   "metadata": {},
   "outputs": [],
   "source": [
    "class ImagePromptDataset(Dataset):\n",
    "    def __init__(self, image_dir, prompt_dir, transform=None):\n",
    "        \"\"\"\n",
    "        Args:\n",
    "            image_dir (str): Directory with all the images.\n",
    "            prompt_dir (str): Directory with all the prompt text files.\n",
    "            transform (callable, optional): Optional transform to be applied on an image.\n",
    "        \"\"\"\n",
    "        self.image_dir = image_dir\n",
    "        self.prompt_dir = prompt_dir\n",
    "        self.image_files = sorted(os.listdir(image_dir))\n",
    "        self.transform = transform\n",
    "\n",
    "    def __len__(self):\n",
    "        return len(self.image_files)\n",
    "\n",
    "    def __getitem__(self, idx):\n",
    "        # Get the image file\n",
    "        img_name = os.path.join(self.image_dir, self.image_files[idx])\n",
    "        image = Image.open(img_name).convert(\"RGB\")\n",
    "\n",
    "        # Get the corresponding prompt\n",
    "        prompt_name = os.path.join(self.prompt_dir, self.image_files[idx].replace(\".jpg\", \".txt\"))\n",
    "        with open(prompt_name, 'r') as f:\n",
    "            prompt = f.read().strip()\n",
    "\n",
    "        # Apply transformations (if any)\n",
    "        if self.transform:\n",
    "            image = self.transform(image)\n",
    "\n",
    "        return image, prompt"
   ]
  },
  {
   "cell_type": "code",
   "execution_count": 10,
   "metadata": {},
   "outputs": [],
   "source": [
    "from torchvision import transforms\n",
    "\n",
    "transform = transforms.Compose([\n",
    "    transforms.Resize((256, 256)),  # Resize all images to 256x256\n",
    "    transforms.ToTensor(),  # Convert the image to a tensor\n",
    "    transforms.Normalize(mean=[0.5, 0.5, 0.5], std=[0.5, 0.5, 0.5]),  # Normalize to [-1, 1] range\n",
    "])\n"
   ]
  },
  {
   "cell_type": "code",
   "execution_count": 11,
   "metadata": {},
   "outputs": [],
   "source": [
    "image_dir = './data-source/images/'\n",
    "prompt_dir = './data-source/prompts/'\n",
    "\n",
    "dataset = ImagePromptDataset(image_dir=image_dir, prompt_dir=prompt_dir, transform=transform)\n",
    "\n"
   ]
  },
  {
   "cell_type": "code",
   "execution_count": 12,
   "metadata": {},
   "outputs": [
    {
     "name": "stdout",
     "output_type": "stream",
     "text": [
      "a logo for a coffee shop with a flower anime style\n"
     ]
    }
   ],
   "source": [
    "image, prompt = dataset[0]\n",
    "print(prompt)  # Print the text prompt\n"
   ]
  },
  {
   "cell_type": "code",
   "execution_count": 13,
   "metadata": {},
   "outputs": [],
   "source": [
    "from torch.utils.data import DataLoader\n",
    "\n",
    "dataloader = DataLoader(dataset, batch_size=16, shuffle=True)\n"
   ]
  },
  {
   "cell_type": "code",
   "execution_count": null,
   "metadata": {},
   "outputs": [],
   "source": [
    "for images, prompts in dataloader:\n",
    "    print(images.shape)  # Check image tensor size\n",
    "    print(prompts)  # Check the text prompts"
   ]
  },
  {
   "cell_type": "code",
   "execution_count": 14,
   "metadata": {},
   "outputs": [],
   "source": [
    "from datasets import Dataset\n"
   ]
  },
  {
   "cell_type": "code",
   "execution_count": 18,
   "metadata": {},
   "outputs": [],
   "source": [
    "def load_data(image_dir, prompt_dir):\n",
    "    image_files = sorted(os.listdir(image_dir))\n",
    "\n",
    "    # Prepare the dictionary with column-wise data\n",
    "    data = {\n",
    "        \"image\": [],\n",
    "        \"text\": []\n",
    "    }\n",
    "\n",
    "    for img_file in image_files:\n",
    "        img_path = os.path.join(image_dir, img_file)\n",
    "        prompt_path = os.path.join(prompt_dir, img_file.replace('.jpg', '.txt'))\n",
    "\n",
    "        # Load the prompt\n",
    "        with open(prompt_path, 'r') as f:\n",
    "            prompt = f.read().strip()\n",
    "\n",
    "        data[\"image\"].append(img_path)\n",
    "        data[\"text\"].append(prompt)\n",
    "\n",
    "    return Dataset.from_dict(data)"
   ]
  },
  {
   "cell_type": "code",
   "execution_count": 20,
   "metadata": {},
   "outputs": [
    {
     "name": "stdout",
     "output_type": "stream",
     "text": [
      "{'image': './data-source/images/0001.jpg', 'text': 'a logo for a coffee shop with a flower anime style'}\n"
     ]
    }
   ],
   "source": [
    "hf_dataset = load_data(image_dir, prompt_dir)\n",
    "\n",
    "# Print the first example\n",
    "print(hf_dataset[0])\n"
   ]
  },
  {
   "cell_type": "code",
   "execution_count": null,
   "metadata": {},
   "outputs": [
    {
     "name": "stderr",
     "output_type": "stream",
     "text": [
      "The cache for model files in Transformers v4.22.0 has been updated. Migrating your old cache. This is a one-time only operation. You can interrupt this and resume the migration later on by calling `transformers.utils.move_cache()`.\n",
      "0it [00:00, ?it/s]\n",
      "Fetching 16 files:   6%|▋         | 1/16 [00:01<00:20,  1.38s/it]"
     ]
    }
   ],
   "source": [
    "from diffusers import StableDiffusionPipeline\n",
    "\n",
    "# Load pre-trained model from Hugging Face\n",
    "pipe = StableDiffusionPipeline.from_pretrained(\"CompVis/stable-diffusion-v1-4\")\n",
    "pipe = pipe.to(\"cuda\")  # Move to GPU if available\n"
   ]
  },
  {
   "cell_type": "code",
   "execution_count": null,
   "metadata": {},
   "outputs": [],
   "source": [
    "import torch\n",
    "def collate_fn(batch):\n",
    "    images = [transform(Image.open(item[\"image\"]).convert(\"RGB\")) for item in batch]\n",
    "    prompts = [item[\"text\"] for item in batch]\n",
    "    return torch.stack(images), prompts\n",
    "\n",
    "dataloader = DataLoader(hf_dataset, batch_size=4, shuffle=True, collate_fn=collate_fn)\n"
   ]
  }
 ],
 "metadata": {
  "kernelspec": {
   "display_name": "Python 3",
   "language": "python",
   "name": "python3"
  },
  "language_info": {
   "codemirror_mode": {
    "name": "ipython",
    "version": 3
   },
   "file_extension": ".py",
   "mimetype": "text/x-python",
   "name": "python",
   "nbconvert_exporter": "python",
   "pygments_lexer": "ipython3",
   "version": "3.8.10"
  }
 },
 "nbformat": 4,
 "nbformat_minor": 2
}
