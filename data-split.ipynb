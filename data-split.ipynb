{
 "cells": [
  {
   "cell_type": "markdown",
   "metadata": {},
   "source": [
    "data source file have the files for image and text caption in the same folder\n",
    "need to seperate the folder for the text caption and image\n",
    "and need to verify that each image have the caption file."
   ]
  },
  {
   "cell_type": "markdown",
   "metadata": {},
   "source": []
  },
  {
   "cell_type": "code",
   "execution_count": 5,
   "metadata": {},
   "outputs": [],
   "source": [
    "import os, shutil\n",
    "from concurrent.futures import ThreadPoolExecutor\n"
   ]
  },
  {
   "cell_type": "code",
   "execution_count": 9,
   "metadata": {},
   "outputs": [],
   "source": [
    "source_folder = \"C:\\\\Users\\\\dipgh\\\\Downloads\\\\Datasetfordream\"\n",
    "destination_folder = \"./data-source\""
   ]
  },
  {
   "cell_type": "code",
   "execution_count": 10,
   "metadata": {},
   "outputs": [],
   "source": [
    "images_folder = os.path.join(destination_folder, \"images\")\n",
    "prompts_folder = os.path.join(destination_folder, \"prompts\")\n"
   ]
  },
  {
   "cell_type": "code",
   "execution_count": 11,
   "metadata": {},
   "outputs": [],
   "source": [
    "# Create destination subfolders\n",
    "os.makedirs(images_folder, exist_ok=True)\n",
    "os.makedirs(prompts_folder, exist_ok=True)\n"
   ]
  },
  {
   "cell_type": "code",
   "execution_count": 12,
   "metadata": {},
   "outputs": [],
   "source": [
    "def process_file(image_file):\n",
    "    \"\"\"\n",
    "    Move an image and its corresponding prompt file to their respective folders.\n",
    "    \"\"\"\n",
    "    txt_file = os.path.splitext(image_file)[0] + \".txt\"\n",
    "    image_path = os.path.join(source_folder, image_file)\n",
    "    txt_path = os.path.join(source_folder, txt_file)\n",
    "\n",
    "    if os.path.exists(txt_path):\n",
    "        # Move image and text files\n",
    "        shutil.move(image_path, os.path.join(images_folder, image_file))\n",
    "        shutil.move(txt_path, os.path.join(prompts_folder, txt_file))\n",
    "    else:\n",
    "        # Log missing caption warning\n",
    "        with open(os.path.join(destination_folder, \"missing_files.log\"), \"a\") as log:\n",
    "            log.write(f\"Missing caption for {image_file}\\n\")\n"
   ]
  },
  {
   "cell_type": "code",
   "execution_count": 13,
   "metadata": {},
   "outputs": [],
   "source": [
    "def move_files():\n",
    "    # List all files in the source folder\n",
    "    all_files = os.listdir(source_folder)\n",
    "\n",
    "    # Filter out image files\n",
    "    image_files = [file for file in all_files if file.endswith(\".jpg\")]\n",
    "\n",
    "    # Process files in parallel\n",
    "    with ThreadPoolExecutor(max_workers=8) as executor:  # Adjust workers based on your CPU cores\n",
    "        executor.map(process_file, image_files)\n"
   ]
  },
  {
   "cell_type": "code",
   "execution_count": 14,
   "metadata": {},
   "outputs": [],
   "source": [
    "move_files()"
   ]
  }
 ],
 "metadata": {
  "kernelspec": {
   "display_name": "Python 3",
   "language": "python",
   "name": "python3"
  },
  "language_info": {
   "codemirror_mode": {
    "name": "ipython",
    "version": 3
   },
   "file_extension": ".py",
   "mimetype": "text/x-python",
   "name": "python",
   "nbconvert_exporter": "python",
   "pygments_lexer": "ipython3",
   "version": "3.8.10"
  }
 },
 "nbformat": 4,
 "nbformat_minor": 2
}
